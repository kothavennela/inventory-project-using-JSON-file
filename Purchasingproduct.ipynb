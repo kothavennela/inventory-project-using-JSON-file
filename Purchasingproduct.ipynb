{
  "nbformat": 4,
  "nbformat_minor": 0,
  "metadata": {
    "colab": {
      "name": "Purchasingproduct.ipynb",
      "provenance": [],
      "collapsed_sections": []
    },
    "kernelspec": {
      "name": "python3",
      "display_name": "Python 3"
    },
    "language_info": {
      "name": "python"
    }
  },
  "cells": [
    {
      "cell_type": "markdown",
      "metadata": {
        "id": "kyfgOakD9s4A"
      },
      "source": [
        "**PURCHASING PRODUCT**"
      ]
    },
    {
      "cell_type": "code",
      "metadata": {
        "id": "mtMRjAhX2O9u"
      },
      "source": [
        "import json\n",
        "\n",
        "fo = open(\"productrecord.json\",'r')\n",
        "read = fo.read()\n",
        "fo.close()\n",
        "\n",
        "purchaserecord = json.loads(read)"
      ],
      "execution_count": 51,
      "outputs": []
    },
    {
      "cell_type": "code",
      "metadata": {
        "colab": {
          "base_uri": "https://localhost:8080/"
        },
        "id": "8nNvkmKE76dm",
        "outputId": "5d1aee6a-251b-4239-ccf1-863e36c4c73a"
      },
      "source": [
        "purchaserecord"
      ],
      "execution_count": 52,
      "outputs": [
        {
          "output_type": "execute_result",
          "data": {
            "text/plain": [
              "{'101': {'itemname': 'ChocoCake',\n",
              "  'prodcategory': 'spongecake',\n",
              "  'prodprice': 100,\n",
              "  'prodquantity': 34,\n",
              "  'productdiscount': 40},\n",
              " '102': {'itemname': 'vanilaCake',\n",
              "  'prodcategory': 'milkcake',\n",
              "  'prodprice': 800,\n",
              "  'prodquantity': 78,\n",
              "  'productdiscount': 20},\n",
              " '103': {'itemname': 'drinks',\n",
              "  'prodcategory': 'softdrinks',\n",
              "  'prodprice': 85,\n",
              "  'prodquantity': 56,\n",
              "  'productdiscount': 45},\n",
              " '104': {'itemname': 'butterCookie',\n",
              "  'prodcategory': 'butterCookie',\n",
              "  'prodprice': 50,\n",
              "  'prodquantity': 50,\n",
              "  'productdiscount': 22},\n",
              " '105': {'itemname': 'bottles',\n",
              "  'prodcategory': 'milton',\n",
              "  'prodprice': 45,\n",
              "  'prodquantity': 50,\n",
              "  'productdiscount': 18},\n",
              " '106': {'itemname': 'chairs',\n",
              "  'prodcategory': 'woodenchair',\n",
              "  'prodprice': 15,\n",
              "  'prodquantity': 500,\n",
              "  'productdiscount': 10},\n",
              " '107': {'itemname': 'books',\n",
              "  'prodcategory': 'readingbooks',\n",
              "  'prodprice': 25,\n",
              "  'prodquantity': 200,\n",
              "  'productdiscount': 5},\n",
              " '108': {'itemname': 'chocolates',\n",
              "  'prodcategory': 'chococream',\n",
              "  'prodprice': 5,\n",
              "  'prodquantity': 100,\n",
              "  'productdiscount': 6},\n",
              " '109': {'itemname': 'flour',\n",
              "  'prodcategory': 'wheatflour',\n",
              "  'prodprice': 35,\n",
              "  'prodquantity': 50,\n",
              "  'productdiscount': 4},\n",
              " '110': {'itemname': 'rice',\n",
              "  'prodcategory': 'largegrainrice',\n",
              "  'prodprice': 100,\n",
              "  'prodquantity': 44,\n",
              "  'productdiscount': 10},\n",
              " '111': {'itemname': 'phone',\n",
              "  'prodcategory': 'iphone',\n",
              "  'prodprice': 1000,\n",
              "  'prodquantity': 50,\n",
              "  'productdiscount': 15},\n",
              " '112': {'itemname': 'laptop',\n",
              "  'prodcategory': 'dell',\n",
              "  'prodprice': 100000,\n",
              "  'prodquantity': 50,\n",
              "  'productdiscount': 25},\n",
              " '113': {'itemname': 'candies',\n",
              "  'prodcategory': 'choco',\n",
              "  'prodprice': 50,\n",
              "  'prodquantity': 450,\n",
              "  'productdiscount': 2},\n",
              " '114': {'itemname': 'bread',\n",
              "  'prodcategory': 'softbread',\n",
              "  'prodprice': 30,\n",
              "  'prodquantity': 400,\n",
              "  'productdiscount': 3},\n",
              " '115': {'itemname': 'dishpowder',\n",
              "  'prodcategory': 'powder',\n",
              "  'prodprice': 89,\n",
              "  'prodquantity': 560,\n",
              "  'productdiscount': 10},\n",
              " '116': {'itemname': 'facepowder',\n",
              "  'prodcategory': 'powders',\n",
              "  'prodprice': 99,\n",
              "  'prodquantity': 500,\n",
              "  'productdiscount': 15},\n",
              " '117': {'itemname': 'facecream',\n",
              "  'prodcategory': 'cream',\n",
              "  'prodprice': 50,\n",
              "  'prodquantity': 520,\n",
              "  'productdiscount': 35},\n",
              " '118': {'itemname': 'sunscreen',\n",
              "  'prodcategory': 'lotion',\n",
              "  'prodprice': 60,\n",
              "  'prodquantity': 560,\n",
              "  'productdiscount': 45},\n",
              " '119': {'itemname': 'oilcream',\n",
              "  'prodcategory': 'oilbottle',\n",
              "  'prodprice': 50,\n",
              "  'prodquantity': 456,\n",
              "  'productdiscount': 55},\n",
              " '120': {'itemname': 'pocketbag',\n",
              "  'prodcategory': 'pbag',\n",
              "  'prodprice': 6000,\n",
              "  'prodquantity': 500,\n",
              "  'productdiscount': 7},\n",
              " '121': {'itemname': 'dellbag',\n",
              "  'prodcategory': 'companybag',\n",
              "  'prodprice': 599,\n",
              "  'prodquantity': 475,\n",
              "  'productdiscount': 6},\n",
              " '122': {'itemname': 'balloonbag',\n",
              "  'prodcategory': 'bag',\n",
              "  'prodprice': 30000,\n",
              "  'prodquantity': 400,\n",
              "  'productdiscount': 2},\n",
              " '123': {'itemname': 'roundtable',\n",
              "  'prodcategory': 'table',\n",
              "  'prodprice': 3000,\n",
              "  'prodquantity': 450,\n",
              "  'productdiscount': 30},\n",
              " '124': {'itemname': 'cricketbat',\n",
              "  'prodcategory': 'bat',\n",
              "  'prodprice': 3500,\n",
              "  'prodquantity': 450,\n",
              "  'productdiscount': 3},\n",
              " '125': {'itemname': 'roundboxes',\n",
              "  'prodcategory': 'boxes',\n",
              "  'prodprice': 45,\n",
              "  'prodquantity': 596,\n",
              "  'productdiscount': 5},\n",
              " '126': {'itemname': 'roundbowls',\n",
              "  'prodcategory': 'bowls',\n",
              "  'prodprice': 59,\n",
              "  'prodquantity': 240,\n",
              "  'productdiscount': 2},\n",
              " '127': {'itemname': 'shortpan',\n",
              "  'prodcategory': 'pan',\n",
              "  'prodprice': 2000,\n",
              "  'prodquantity': 650,\n",
              "  'productdiscount': 10},\n",
              " '128': {'itemname': 'pants',\n",
              "  'prodcategory': 'jeans',\n",
              "  'prodprice': 1000,\n",
              "  'prodquantity': 450,\n",
              "  'productdiscount': 10},\n",
              " '129': {'itemname': 'shortgrainflour',\n",
              "  'prodcategory': 'flour',\n",
              "  'prodprice': 45,\n",
              "  'prodquantity': None,\n",
              "  'productdiscount': 23},\n",
              " '130': {'itemname': 'keyboard',\n",
              "  'prodcategory': 'dell',\n",
              "  'prodprice': 3000,\n",
              "  'prodquantity': 430,\n",
              "  'productdiscount': 20},\n",
              " '131': {'itemname': 'penbox',\n",
              "  'prodcategory': 'detergent',\n",
              "  'prodprice': 500,\n",
              "  'prodquantity': 250,\n",
              "  'productdiscount': 6},\n",
              " '132': {'itemname': 'wallet',\n",
              "  'prodcategory': 'moneywallet',\n",
              "  'prodprice': 500,\n",
              "  'prodquantity': 65,\n",
              "  'productdiscount': 5},\n",
              " '133': {'itemname': 'shortdumble',\n",
              "  'prodcategory': 'dumble',\n",
              "  'prodprice': 500,\n",
              "  'prodquantity': 50,\n",
              "  'productdiscount': 5},\n",
              " '134': {'itemname': 'haircream',\n",
              "  'prodcategory': 'creamhair',\n",
              "  'prodprice': 450,\n",
              "  'prodquantity': 400,\n",
              "  'productdiscount': 10},\n",
              " '135': {'itemname': 'flowerpots',\n",
              "  'prodcategory': 'plasticpots',\n",
              "  'prodprice': 100,\n",
              "  'prodquantity': 90,\n",
              "  'productdiscount': 10}}"
            ]
          },
          "metadata": {},
          "execution_count": 52
        }
      ]
    },
    {
      "cell_type": "code",
      "metadata": {
        "colab": {
          "base_uri": "https://localhost:8080/"
        },
        "id": "p8eEdJqt7glE",
        "outputId": "9ba0b64d-536b-4195-d028-f620f2a4b59d"
      },
      "source": [
        "userprodid  = str(input(\"Enter the product Id: \"))\n",
        "userquantity = int(input(\"Enter the quantity: \"))\n",
        "\n",
        "\n",
        "print(\"Product: \", purchaserecord[userprodid]['itemname'])\n",
        "print(\"Category: \", purchaserecord[userprodid]['prodcategory'])\n",
        "print(\"Quantity: \", purchaserecord[userprodid]['prodquantity'])\n",
        "print(\"Price: \", purchaserecord[userprodid]['prodprice'])\n",
        "print(\"Billing Amount: \", purchaserecord[userprodid]['prodprice'] * userquantity)\n",
        "\n",
        "purchaserecord[userprodid]['prodquantity'] = (purchaserecord[userprodid]['prodquantity'] - userquantity)\n",
        "print(\"Quantity: \", purchaserecord[userprodid]['prodquantity'])"
      ],
      "execution_count": 53,
      "outputs": [
        {
          "output_type": "stream",
          "name": "stdout",
          "text": [
            "Enter the product Id: 131\n",
            "Enter the quantity: 50\n",
            "Product:  penbox\n",
            "Category:  detergent\n",
            "Quantity:  250\n",
            "Price:  500\n",
            "Billing Amount:  25000\n",
            "Quantity:  200\n"
          ]
        }
      ]
    },
    {
      "cell_type": "markdown",
      "metadata": {
        "id": "aMSL1hhYG7fM"
      },
      "source": [
        "**UPDATED THE TABLE AFTER PURCHASING**"
      ]
    },
    {
      "cell_type": "code",
      "metadata": {
        "id": "ItREMIfZSWnK"
      },
      "source": [
        "import json\n",
        "js = json.dumps(purchaserecord)\n",
        "\n",
        "fo = open(\"productrecord.json\",'w')\n",
        "fo.write(js)\n",
        "fo.close()"
      ],
      "execution_count": 54,
      "outputs": []
    },
    {
      "cell_type": "code",
      "metadata": {
        "colab": {
          "base_uri": "https://localhost:8080/"
        },
        "id": "0TRLlnBADzBu",
        "outputId": "e5aaf441-e24a-406c-c602-5e011f4175d7"
      },
      "source": [
        "purchaserecord"
      ],
      "execution_count": 55,
      "outputs": [
        {
          "output_type": "execute_result",
          "data": {
            "text/plain": [
              "{'101': {'itemname': 'ChocoCake',\n",
              "  'prodcategory': 'spongecake',\n",
              "  'prodprice': 100,\n",
              "  'prodquantity': 34,\n",
              "  'productdiscount': 40},\n",
              " '102': {'itemname': 'vanilaCake',\n",
              "  'prodcategory': 'milkcake',\n",
              "  'prodprice': 800,\n",
              "  'prodquantity': 78,\n",
              "  'productdiscount': 20},\n",
              " '103': {'itemname': 'drinks',\n",
              "  'prodcategory': 'softdrinks',\n",
              "  'prodprice': 85,\n",
              "  'prodquantity': 56,\n",
              "  'productdiscount': 45},\n",
              " '104': {'itemname': 'butterCookie',\n",
              "  'prodcategory': 'butterCookie',\n",
              "  'prodprice': 50,\n",
              "  'prodquantity': 50,\n",
              "  'productdiscount': 22},\n",
              " '105': {'itemname': 'bottles',\n",
              "  'prodcategory': 'milton',\n",
              "  'prodprice': 45,\n",
              "  'prodquantity': 50,\n",
              "  'productdiscount': 18},\n",
              " '106': {'itemname': 'chairs',\n",
              "  'prodcategory': 'woodenchair',\n",
              "  'prodprice': 15,\n",
              "  'prodquantity': 500,\n",
              "  'productdiscount': 10},\n",
              " '107': {'itemname': 'books',\n",
              "  'prodcategory': 'readingbooks',\n",
              "  'prodprice': 25,\n",
              "  'prodquantity': 200,\n",
              "  'productdiscount': 5},\n",
              " '108': {'itemname': 'chocolates',\n",
              "  'prodcategory': 'chococream',\n",
              "  'prodprice': 5,\n",
              "  'prodquantity': 100,\n",
              "  'productdiscount': 6},\n",
              " '109': {'itemname': 'flour',\n",
              "  'prodcategory': 'wheatflour',\n",
              "  'prodprice': 35,\n",
              "  'prodquantity': 50,\n",
              "  'productdiscount': 4},\n",
              " '110': {'itemname': 'rice',\n",
              "  'prodcategory': 'largegrainrice',\n",
              "  'prodprice': 100,\n",
              "  'prodquantity': 44,\n",
              "  'productdiscount': 10},\n",
              " '111': {'itemname': 'phone',\n",
              "  'prodcategory': 'iphone',\n",
              "  'prodprice': 1000,\n",
              "  'prodquantity': 50,\n",
              "  'productdiscount': 15},\n",
              " '112': {'itemname': 'laptop',\n",
              "  'prodcategory': 'dell',\n",
              "  'prodprice': 100000,\n",
              "  'prodquantity': 50,\n",
              "  'productdiscount': 25},\n",
              " '113': {'itemname': 'candies',\n",
              "  'prodcategory': 'choco',\n",
              "  'prodprice': 50,\n",
              "  'prodquantity': 450,\n",
              "  'productdiscount': 2},\n",
              " '114': {'itemname': 'bread',\n",
              "  'prodcategory': 'softbread',\n",
              "  'prodprice': 30,\n",
              "  'prodquantity': 400,\n",
              "  'productdiscount': 3},\n",
              " '115': {'itemname': 'dishpowder',\n",
              "  'prodcategory': 'powder',\n",
              "  'prodprice': 89,\n",
              "  'prodquantity': 560,\n",
              "  'productdiscount': 10},\n",
              " '116': {'itemname': 'facepowder',\n",
              "  'prodcategory': 'powders',\n",
              "  'prodprice': 99,\n",
              "  'prodquantity': 500,\n",
              "  'productdiscount': 15},\n",
              " '117': {'itemname': 'facecream',\n",
              "  'prodcategory': 'cream',\n",
              "  'prodprice': 50,\n",
              "  'prodquantity': 520,\n",
              "  'productdiscount': 35},\n",
              " '118': {'itemname': 'sunscreen',\n",
              "  'prodcategory': 'lotion',\n",
              "  'prodprice': 60,\n",
              "  'prodquantity': 560,\n",
              "  'productdiscount': 45},\n",
              " '119': {'itemname': 'oilcream',\n",
              "  'prodcategory': 'oilbottle',\n",
              "  'prodprice': 50,\n",
              "  'prodquantity': 456,\n",
              "  'productdiscount': 55},\n",
              " '120': {'itemname': 'pocketbag',\n",
              "  'prodcategory': 'pbag',\n",
              "  'prodprice': 6000,\n",
              "  'prodquantity': 500,\n",
              "  'productdiscount': 7},\n",
              " '121': {'itemname': 'dellbag',\n",
              "  'prodcategory': 'companybag',\n",
              "  'prodprice': 599,\n",
              "  'prodquantity': 475,\n",
              "  'productdiscount': 6},\n",
              " '122': {'itemname': 'balloonbag',\n",
              "  'prodcategory': 'bag',\n",
              "  'prodprice': 30000,\n",
              "  'prodquantity': 400,\n",
              "  'productdiscount': 2},\n",
              " '123': {'itemname': 'roundtable',\n",
              "  'prodcategory': 'table',\n",
              "  'prodprice': 3000,\n",
              "  'prodquantity': 450,\n",
              "  'productdiscount': 30},\n",
              " '124': {'itemname': 'cricketbat',\n",
              "  'prodcategory': 'bat',\n",
              "  'prodprice': 3500,\n",
              "  'prodquantity': 450,\n",
              "  'productdiscount': 3},\n",
              " '125': {'itemname': 'roundboxes',\n",
              "  'prodcategory': 'boxes',\n",
              "  'prodprice': 45,\n",
              "  'prodquantity': 596,\n",
              "  'productdiscount': 5},\n",
              " '126': {'itemname': 'roundbowls',\n",
              "  'prodcategory': 'bowls',\n",
              "  'prodprice': 59,\n",
              "  'prodquantity': 240,\n",
              "  'productdiscount': 2},\n",
              " '127': {'itemname': 'shortpan',\n",
              "  'prodcategory': 'pan',\n",
              "  'prodprice': 2000,\n",
              "  'prodquantity': 650,\n",
              "  'productdiscount': 10},\n",
              " '128': {'itemname': 'pants',\n",
              "  'prodcategory': 'jeans',\n",
              "  'prodprice': 1000,\n",
              "  'prodquantity': 450,\n",
              "  'productdiscount': 10},\n",
              " '129': {'itemname': 'shortgrainflour',\n",
              "  'prodcategory': 'flour',\n",
              "  'prodprice': 45,\n",
              "  'prodquantity': None,\n",
              "  'productdiscount': 23},\n",
              " '130': {'itemname': 'keyboard',\n",
              "  'prodcategory': 'dell',\n",
              "  'prodprice': 3000,\n",
              "  'prodquantity': 430,\n",
              "  'productdiscount': 20},\n",
              " '131': {'itemname': 'penbox',\n",
              "  'prodcategory': 'detergent',\n",
              "  'prodprice': 500,\n",
              "  'prodquantity': 200,\n",
              "  'productdiscount': 6},\n",
              " '132': {'itemname': 'wallet',\n",
              "  'prodcategory': 'moneywallet',\n",
              "  'prodprice': 500,\n",
              "  'prodquantity': 65,\n",
              "  'productdiscount': 5},\n",
              " '133': {'itemname': 'shortdumble',\n",
              "  'prodcategory': 'dumble',\n",
              "  'prodprice': 500,\n",
              "  'prodquantity': 50,\n",
              "  'productdiscount': 5},\n",
              " '134': {'itemname': 'haircream',\n",
              "  'prodcategory': 'creamhair',\n",
              "  'prodprice': 450,\n",
              "  'prodquantity': 400,\n",
              "  'productdiscount': 10},\n",
              " '135': {'itemname': 'flowerpots',\n",
              "  'prodcategory': 'plasticpots',\n",
              "  'prodprice': 100,\n",
              "  'prodquantity': 90,\n",
              "  'productdiscount': 10}}"
            ]
          },
          "metadata": {},
          "execution_count": 55
        }
      ]
    },
    {
      "cell_type": "markdown",
      "metadata": {
        "id": "ZO6WLOtaa9pj"
      },
      "source": [
        "**PRODUCT SALES**"
      ]
    },
    {
      "cell_type": "code",
      "metadata": {
        "id": "i5hNnebcTUUd"
      },
      "source": [
        "salesdata = {1 : {'userprodid' : userprodid, 'userquantity' : userquantity, 'bill amount': purchaserecord[userprodid]['prodprice'] * userquantity},\n",
        "         2 : {'userprodid' : userprodid, 'userquantity' : userquantity, 'bill amount': purchaserecord[userprodid]['prodprice'] * userquantity},\n",
        "         3 : {'userprodid' : userprodid, 'userquantity' : userquantity, 'bill amount': purchaserecord[userprodid]['prodprice'] * userquantity}}"
      ],
      "execution_count": 56,
      "outputs": []
    },
    {
      "cell_type": "code",
      "metadata": {
        "id": "sqGDk9JDTqMa"
      },
      "source": [
        "import json\n",
        "salesout = json.dumps(salesdata)\n",
        "\n",
        "fo = open(\"salesrecord.json\",'w')\n",
        "fo.write(salesout)\n",
        "fo.close()\n",
        "\n"
      ],
      "execution_count": 57,
      "outputs": []
    },
    {
      "cell_type": "code",
      "metadata": {
        "colab": {
          "base_uri": "https://localhost:8080/"
        },
        "id": "p6lqULLWWVXx",
        "outputId": "6b422777-a88d-4e5f-e1ae-9cfe0a7762ca"
      },
      "source": [
        "print(\"new sales:\",salesdata)"
      ],
      "execution_count": 60,
      "outputs": [
        {
          "output_type": "stream",
          "name": "stdout",
          "text": [
            "new sales: {1: {'userprodid': '131', 'userquantity': 50, 'bill amount': 25000}, 2: {'userprodid': '131', 'userquantity': 50, 'bill amount': 25000}, 3: {'userprodid': '131', 'userquantity': 50, 'bill amount': 25000}}\n"
          ]
        }
      ]
    },
    {
      "cell_type": "code",
      "metadata": {
        "id": "NwGQlurSVWc-"
      },
      "source": [
        "\n"
      ],
      "execution_count": null,
      "outputs": []
    }
  ]
}